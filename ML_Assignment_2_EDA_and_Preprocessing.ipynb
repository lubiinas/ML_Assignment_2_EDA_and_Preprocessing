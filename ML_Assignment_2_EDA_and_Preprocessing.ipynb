{
 "cells": [
  {
   "cell_type": "markdown",
   "id": "0b5d600e-cdf3-4c71-8ee7-7f6078896c5d",
   "metadata": {},
   "source": [
    "**ML_Assignment_2_EDA_and_Preprocessing**"
   ]
  },
  {
   "cell_type": "markdown",
   "id": "907fb4bf-c2aa-4a30-91ce-246508e2108e",
   "metadata": {},
   "source": [
    "*Install & Import Necessary Libraries*"
   ]
  },
  {
   "cell_type": "code",
   "execution_count": 2,
   "id": "ab4cbdc0-730d-4cdf-833e-e7e81680550c",
   "metadata": {},
   "outputs": [],
   "source": [
    "import pandas as pd\n",
    "import numpy as np\n",
    "import matplotlib.pyplot as plt\n",
    "import seaborn as sns\n",
    "from sklearn.preprocessing import LabelEncoder, OneHotEncoder, StandardScaler, MinMaxScaler"
   ]
  },
  {
   "cell_type": "markdown",
   "id": "1a796aff-1ea0-487e-a485-2a167fd3dc0d",
   "metadata": {},
   "source": [
    "*Load Dataset from Google Drive*"
   ]
  },
  {
   "cell_type": "code",
   "execution_count": 3,
   "id": "77c67dc4-b40c-4a40-919f-e22209ca12a2",
   "metadata": {},
   "outputs": [
    {
     "name": "stdout",
     "output_type": "stream",
     "text": [
      "   Company   Age  Salary     Place Country  Gender\n",
      "0      TCS  20.0     NaN   Chennai   India       0\n",
      "1  Infosys  30.0     NaN    Mumbai   India       0\n",
      "2      TCS  35.0  2300.0  Calcutta   India       0\n",
      "3  Infosys  40.0  3000.0     Delhi   India       0\n",
      "4      TCS  23.0  4000.0    Mumbai   India       0\n"
     ]
    }
   ],
   "source": [
    "\n",
    "# Correct Google Drive link format\n",
    "file_id = \"1F3lRf32JM8ejnXq-Cbf9y7fa57zSHGz_\"  # Replace with your actual file ID\n",
    "url = f\"https://drive.google.com/uc?id={file_id}\"\n",
    "\n",
    "# Load the dataset\n",
    "df = pd.read_csv(url)\n",
    "print(df.head())"
   ]
  },
  {
   "cell_type": "markdown",
   "id": "cbeeba71-f893-44c9-8612-0bed631f5949",
   "metadata": {},
   "source": [
    "*Data Exploration*"
   ]
  },
  {
   "cell_type": "code",
   "execution_count": 4,
   "id": "0a17d7dd-4d14-4ba5-9afd-ba1cea146739",
   "metadata": {},
   "outputs": [
    {
     "name": "stdout",
     "output_type": "stream",
     "text": [
      "\n",
      "Dataset Info:\n",
      "<class 'pandas.core.frame.DataFrame'>\n",
      "RangeIndex: 148 entries, 0 to 147\n",
      "Data columns (total 6 columns):\n",
      " #   Column   Non-Null Count  Dtype  \n",
      "---  ------   --------------  -----  \n",
      " 0   Company  140 non-null    object \n",
      " 1   Age      130 non-null    float64\n",
      " 2   Salary   124 non-null    float64\n",
      " 3   Place    134 non-null    object \n",
      " 4   Country  148 non-null    object \n",
      " 5   Gender   148 non-null    int64  \n",
      "dtypes: float64(2), int64(1), object(3)\n",
      "memory usage: 7.1+ KB\n",
      "None\n",
      "\n",
      "Unique Values in Each Feature:\n",
      "Company: 6\n",
      "Age: 29\n",
      "Salary: 40\n",
      "Place: 11\n",
      "Country: 1\n",
      "Gender: 2\n",
      "\n",
      "Statistical Summary:\n",
      "              Age       Salary      Gender\n",
      "count  130.000000   124.000000  148.000000\n",
      "mean    30.484615  5312.467742    0.222973\n",
      "std     11.096640  2573.764683    0.417654\n",
      "min      0.000000  1089.000000    0.000000\n",
      "25%     22.000000  3030.000000    0.000000\n",
      "50%     32.500000  5000.000000    0.000000\n",
      "75%     37.750000  8000.000000    0.000000\n",
      "max     54.000000  9876.000000    1.000000\n"
     ]
    }
   ],
   "source": [
    "# Display basic dataset information\n",
    "print(\"\\nDataset Info:\")\n",
    "print(df.info())\n",
    "\n",
    "print(\"\\nUnique Values in Each Feature:\")\n",
    "for col in df.columns:\n",
    "    print(f\"{col}: {df[col].nunique()}\")\n",
    "\n",
    "print(\"\\nStatistical Summary:\")\n",
    "print(df.describe())"
   ]
  },
  {
   "cell_type": "code",
   "execution_count": 5,
   "id": "5e3b281e-a830-4d04-8c0d-5df070c0e65a",
   "metadata": {},
   "outputs": [],
   "source": [
    "# Renaming columns (Update column names if needed)\n",
    "df.rename(columns={'Salary': 'Income'}, inplace=True)  # 🔴 Change as required"
   ]
  },
  {
   "cell_type": "code",
   "execution_count": 6,
   "id": "02aac6da-8956-4c2c-b272-2417f03350bf",
   "metadata": {},
   "outputs": [
    {
     "name": "stdout",
     "output_type": "stream",
     "text": [
      "\n",
      "First Few Rows After Renaming:\n",
      "   Company   Age  Income     Place Country  Gender\n",
      "0      TCS  20.0     NaN   Chennai   India       0\n",
      "1  Infosys  30.0     NaN    Mumbai   India       0\n",
      "2      TCS  35.0  2300.0  Calcutta   India       0\n",
      "3  Infosys  40.0  3000.0     Delhi   India       0\n",
      "4      TCS  23.0  4000.0    Mumbai   India       0\n"
     ]
    }
   ],
   "source": [
    "# Display first few rows to verify changes\n",
    "print(\"\\nFirst Few Rows After Renaming:\")\n",
    "print(df.head())\n"
   ]
  },
  {
   "cell_type": "markdown",
   "id": "b575e93d-3a08-430d-9ab2-a5c7e74ca260",
   "metadata": {},
   "source": [
    "*Data Cleaning*"
   ]
  },
  {
   "cell_type": "code",
   "execution_count": 7,
   "id": "b0775b17-80db-4c5d-9351-baae243b3967",
   "metadata": {},
   "outputs": [
    {
     "name": "stdout",
     "output_type": "stream",
     "text": [
      "\n",
      "Missing Values Before Cleaning:\n",
      "Company    148\n",
      "Age         18\n",
      "Income      24\n",
      "Place      148\n",
      "Country    148\n",
      "Gender       0\n",
      "dtype: int64\n"
     ]
    }
   ],
   "source": [
    "\n",
    "# Convert numeric columns properly\n",
    "df = df.apply(pd.to_numeric, errors='coerce')\n",
    "\n",
    "\n",
    "# Identify missing values\n",
    "print(\"\\nMissing Values Before Cleaning:\")\n",
    "print(df.isnull().sum())\n",
    "\n",
    "\n",
    "\n"
   ]
  },
  {
   "cell_type": "code",
   "execution_count": 8,
   "id": "e84055b8-c40f-4ab5-adee-a3de9b27e761",
   "metadata": {},
   "outputs": [],
   "source": [
    "# Remove duplicate rows\n",
    "df.drop_duplicates(inplace=True)\n",
    "\n",
    "# Replace '0' in 'Age' with NaN\n",
    "if 'Age' in df.columns:\n",
    "    df['Age'] = df['Age'].replace(0, np.nan)\n",
    "\n",
    "# Handle missing values (fill with mean/median/mode)\n",
    "df['Age'] = df['Age'].fillna(df['Age'].median())\n",
    "df['Income'] = df['Income'].fillna(df['Income'].mean())\n"
   ]
  },
  {
   "cell_type": "code",
   "execution_count": 9,
   "id": "8243bfcc-ea1c-464e-951a-5684d5c75912",
   "metadata": {},
   "outputs": [],
   "source": [
    "# Fill missing categorical values with mode\n",
    "categorical_cols = df.select_dtypes(include=['object']).columns\n",
    "for col in categorical_cols:\n",
    "    if not df[col].mode().dropna().empty:\n",
    "        df[col] = df[col].fillna(df[col].mode()[0])\n",
    "\n",
    "# Convert numeric columns properly\n",
    "numeric_cols = df.select_dtypes(include=['number']).columns  \n",
    "df[numeric_cols] = df[numeric_cols].apply(pd.to_numeric, errors='coerce')\n"
   ]
  },
  {
   "cell_type": "code",
   "execution_count": 10,
   "id": "504e884b-ad09-4ac8-bf42-bb95139a7e18",
   "metadata": {},
   "outputs": [
    {
     "name": "stdout",
     "output_type": "stream",
     "text": [
      "\n",
      "Dataset Info After Cleaning:\n",
      "<class 'pandas.core.frame.DataFrame'>\n",
      "Index: 0 entries\n",
      "Data columns (total 6 columns):\n",
      " #   Column   Non-Null Count  Dtype  \n",
      "---  ------   --------------  -----  \n",
      " 0   Company  0 non-null      float64\n",
      " 1   Age      0 non-null      float64\n",
      " 2   Income   0 non-null      float64\n",
      " 3   Place    0 non-null      float64\n",
      " 4   Country  0 non-null      float64\n",
      " 5   Gender   0 non-null      int64  \n",
      "dtypes: float64(5), int64(1)\n",
      "memory usage: 0.0 bytes\n",
      "None\n",
      "\n",
      "Data Cleaning Completed Successfully!\n"
     ]
    }
   ],
   "source": [
    "# IQR Outlier Detection\n",
    "Q1 = df[numeric_cols].quantile(0.25)\n",
    "Q3 = df[numeric_cols].quantile(0.75)\n",
    "IQR = Q3 - Q1\n",
    "lower_bound = Q1 - 1.5 * IQR\n",
    "upper_bound = Q3 + 1.5 * IQR\n",
    "\n",
    "# Removing outliers column-wise\n",
    "for col in numeric_cols:\n",
    "    df = df[(df[col] >= lower_bound[col]) & (df[col] <= upper_bound[col])]\n",
    "\n",
    "# Display dataset info after cleaning\n",
    "print(\"\\nDataset Info After Cleaning:\")\n",
    "print(df.info())\n",
    "\n",
    "# Save cleaned data\n",
    "df.to_csv(\"cleaned_data.csv\", index=False)\n",
    "print(\"\\nData Cleaning Completed Successfully!\")\n"
   ]
  },
  {
   "cell_type": "markdown",
   "id": "e1b3f8b3-9f46-4e06-b4b0-09b99aecaf30",
   "metadata": {},
   "source": [
    "*Data Analysis*\n"
   ]
  },
  {
   "cell_type": "code",
   "execution_count": 30,
   "id": "4a696635-398d-4eee-a486-55aef0c27754",
   "metadata": {},
   "outputs": [
    {
     "name": "stdout",
     "output_type": "stream",
     "text": [
      "\n",
      "Filtered Data:\n",
      "Empty DataFrame\n",
      "Columns: [Company, Age, Income, Place, Country, Gender]\n",
      "Index: []\n"
     ]
    },
    {
     "data": {
      "image/png": "[encoded data removed]",
      "text/plain": [
       "<Figure size 800x500 with 1 Axes>"
      ]
     },
     "metadata": {},
     "output_type": "display_data"
    },
    {
     "data": {
      "image/png": "[encoded data removed]",
      "text/plain": [
       "<Figure size 600x400 with 1 Axes>"
      ]
     },
     "metadata": {},
     "output_type": "display_data"
    }
   ],
   "source": [
    "# Filter data where Age > 40 and Salary < 5000\n",
    "filtered_df = df[(df['Age'] > 40) & (df['Income'] < 5000)]\n",
    "print(\"\\nFiltered Data:\")\n",
    "print(filtered_df)\n",
    "\n",
    "# Plot Age vs. Salary\n",
    "plt.figure(figsize=(8, 5))\n",
    "sns.scatterplot(data=filtered_df, x='Age', y='Income', color='blue', s=100)\n",
    "plt.title('Age vs. Income')\n",
    "plt.xlabel('Age')\n",
    "plt.ylabel('Income')\n",
    "plt.show()\n",
    "\n",
    "# Count and visualize people from each place\n",
    "place_counts = df['Place'].value_counts()\n",
    "plt.figure(figsize=(6, 4))\n",
    "sns.barplot(x=place_counts.index, y=place_counts.values, palette='viridis')\n",
    "plt.title('People Count from Each Place')\n",
    "plt.xlabel('Place')\n",
    "plt.ylabel('Count')\n",
    "plt.xticks(rotation=45)\n",
    "plt.show()\n"
   ]
  },
  {
   "cell_type": "markdown",
   "id": "77158ec4-753d-4484-b27e-c7f31f602ddd",
   "metadata": {},
   "source": [
    "*Data Encoding*"
   ]
  },
  {
   "cell_type": "code",
   "execution_count": 35,
   "id": "e1748345-5ed3-46ea-ae44-7082484152b2",
   "metadata": {},
   "outputs": [
    {
     "name": "stdout",
     "output_type": "stream",
     "text": [
      "\n",
      "Data after Encoding:\n",
      "Empty DataFrame\n",
      "Columns: [Company, Age, Income, Country, Gender, Place_label]\n",
      "Index: []\n"
     ]
    }
   ],
   "source": [
    "# Label Encoding for categorical variables\n",
    "label_encoder = LabelEncoder()\n",
    "df['Place_label'] = label_encoder.fit_transform(df['Place'])\n",
    "\n",
    "# One-Hot Encoding\n",
    "df_encoded = pd.get_dummies(df, columns=['Place'], drop_first=True)\n",
    "\n",
    "print(\"\\nData after Encoding:\")\n",
    "print(df_encoded.head())\n"
   ]
  },
  {
   "cell_type": "markdown",
   "id": "6dee1a6a-94e2-4fef-9c37-24c2408deb54",
   "metadata": {},
   "source": [
    "*Feature Scaling*"
   ]
  },
  {
   "cell_type": "code",
   "execution_count": 53,
   "id": "bcd8c770-71bd-4ac3-a717-53f45198f62e",
   "metadata": {},
   "outputs": [
    {
     "name": "stdout",
     "output_type": "stream",
     "text": [
      "Error: Dataframe is empty after filtering. Please check the filtering conditions.\n"
     ]
    }
   ],
   "source": [
    "# Ensure no NaN values in numerical columns\n",
    "df[numerical_cols] = df[numerical_cols].fillna(df[numerical_cols].median())\n",
    "\n",
    "# Re-check if dataframe is empty\n",
    "if df.shape[0] == 0:\n",
    "    print(\"Error: Dataframe is empty after filtering. Please check the filtering conditions.\")\n",
    "else:\n",
    "    # Apply StandardScaler\n",
    "    scaler = StandardScaler()\n",
    "    df_standard = pd.DataFrame(scaler.fit_transform(df[numerical_cols]), columns=numerical_cols)\n",
    "\n",
    "    # Apply MinMaxScaler\n",
    "    minmax_scaler = MinMaxScaler()\n",
    "    df_minmax = pd.DataFrame(minmax_scaler.fit_transform(df[numerical_cols]), columns=numerical_cols)\n",
    "\n",
    "    print(\"Scaling Successful!\")\n"
   ]
  },
  {
   "cell_type": "code",
   "execution_count": null,
   "id": "7235a897-9b85-4eec-845e-821febeb0eee",
   "metadata": {},
   "outputs": [],
   "source": []
  }
 ],
 "metadata": {
  "kernelspec": {
   "display_name": "Python 3 (ipykernel)",
   "language": "python",
   "name": "python3"
  },
  "language_info": {
   "codemirror_mode": {
    "name": "ipython",
    "version": 3
   },
   "file_extension": ".py",
   "mimetype": "text/x-python",
   "name": "python",
   "nbconvert_exporter": "python",
   "pygments_lexer": "ipython3",
   "version": "3.12.7"
  }
 },
 "nbformat": 4,
 "nbformat_minor": 5
}
